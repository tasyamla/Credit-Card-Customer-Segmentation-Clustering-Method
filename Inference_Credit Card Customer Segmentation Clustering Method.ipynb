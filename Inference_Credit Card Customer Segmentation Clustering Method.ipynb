{
 "cells": [
  {
   "cell_type": "code",
   "execution_count": 1,
   "metadata": {},
   "outputs": [
    {
     "name": "stderr",
     "output_type": "stream",
     "text": [
      "c:\\Users\\irfan\\anaconda3\\New folder\\lib\\site-packages\\pandas\\core\\computation\\expressions.py:21: UserWarning: Pandas requires version '2.8.4' or newer of 'numexpr' (version '2.8.3' currently installed).\n",
      "  from pandas.core.computation.check import NUMEXPR_INSTALLED\n",
      "c:\\Users\\irfan\\anaconda3\\New folder\\lib\\site-packages\\pandas\\core\\arrays\\masked.py:60: UserWarning: Pandas requires version '1.3.6' or newer of 'bottleneck' (version '1.3.5' currently installed).\n",
      "  from pandas.core import (\n"
     ]
    }
   ],
   "source": [
    "# For Save Model\n",
    "import pickle\n",
    "import joblib\n",
    "import json\n",
    "\n",
    "import pandas as pd"
   ]
  },
  {
   "cell_type": "code",
   "execution_count": 2,
   "metadata": {},
   "outputs": [],
   "source": [
    "# Load model and other files\n",
    "\n",
    "with open('list_cols.txt', 'r') as file_1:\n",
    "  list_cols = json.load(file_1)\n",
    "\n",
    "with open(\"scaler.pkl\", \"rb\") as file_2:\n",
    "  scaler = pickle.load(file_2)\n",
    "\n",
    "with open(\"pca.pkl\", \"rb\") as file_3:\n",
    "  pca = pickle.load(file_3)\n",
    "\n",
    "with open(\"model_kmeans.pkl\", \"rb\") as file_4: \n",
    "  model_kmeans = pickle.load(file_4)\n",
    "\n"
   ]
  },
  {
   "cell_type": "code",
   "execution_count": 5,
   "metadata": {},
   "outputs": [
    {
     "data": {
      "text/html": [
       "<div>\n",
       "<style scoped>\n",
       "    .dataframe tbody tr th:only-of-type {\n",
       "        vertical-align: middle;\n",
       "    }\n",
       "\n",
       "    .dataframe tbody tr th {\n",
       "        vertical-align: top;\n",
       "    }\n",
       "\n",
       "    .dataframe thead th {\n",
       "        text-align: right;\n",
       "    }\n",
       "</style>\n",
       "<table border=\"1\" class=\"dataframe\">\n",
       "  <thead>\n",
       "    <tr style=\"text-align: right;\">\n",
       "      <th></th>\n",
       "      <th>cust_id</th>\n",
       "      <th>balance</th>\n",
       "      <th>balance_frequency</th>\n",
       "      <th>purchases</th>\n",
       "      <th>oneoff_purchases</th>\n",
       "      <th>installments_purchases</th>\n",
       "      <th>cash_advance</th>\n",
       "      <th>purchases_frequency</th>\n",
       "      <th>oneoff_purchases_frequency</th>\n",
       "      <th>purchases_installments_frequency</th>\n",
       "      <th>cash_advance_frequency</th>\n",
       "      <th>cash_advance_trx</th>\n",
       "      <th>purchases_trx</th>\n",
       "      <th>credit_limit</th>\n",
       "      <th>payments</th>\n",
       "      <th>minimum_payments</th>\n",
       "      <th>prc_full_payment</th>\n",
       "      <th>tenure</th>\n",
       "    </tr>\n",
       "  </thead>\n",
       "  <tbody>\n",
       "    <tr>\n",
       "      <th>0</th>\n",
       "      <td>570</td>\n",
       "      <td>1.979916</td>\n",
       "      <td>1.000</td>\n",
       "      <td>103.0</td>\n",
       "      <td>226.90</td>\n",
       "      <td>773.34</td>\n",
       "      <td>4359.325750</td>\n",
       "      <td>0.714286</td>\n",
       "      <td>0.666667</td>\n",
       "      <td>0.571429</td>\n",
       "      <td>0.727273</td>\n",
       "      <td>46</td>\n",
       "      <td>104</td>\n",
       "      <td>513.640460</td>\n",
       "      <td>343.102984</td>\n",
       "      <td>886.050237</td>\n",
       "      <td>0.375</td>\n",
       "      <td>11</td>\n",
       "    </tr>\n",
       "    <tr>\n",
       "      <th>1</th>\n",
       "      <td>1090</td>\n",
       "      <td>154.641707</td>\n",
       "      <td>0.125</td>\n",
       "      <td>297.4</td>\n",
       "      <td>427.22</td>\n",
       "      <td>805.14</td>\n",
       "      <td>455.227731</td>\n",
       "      <td>0.818182</td>\n",
       "      <td>0.714286</td>\n",
       "      <td>0.888889</td>\n",
       "      <td>0.111111</td>\n",
       "      <td>22</td>\n",
       "      <td>117</td>\n",
       "      <td>1100.892272</td>\n",
       "      <td>258.032630</td>\n",
       "      <td>56.720210</td>\n",
       "      <td>0.400</td>\n",
       "      <td>12</td>\n",
       "    </tr>\n",
       "  </tbody>\n",
       "</table>\n",
       "</div>"
      ],
      "text/plain": [
       "   cust_id     balance  balance_frequency  purchases  oneoff_purchases  \\\n",
       "0      570    1.979916              1.000      103.0            226.90   \n",
       "1     1090  154.641707              0.125      297.4            427.22   \n",
       "\n",
       "   installments_purchases  cash_advance  purchases_frequency  \\\n",
       "0                  773.34   4359.325750             0.714286   \n",
       "1                  805.14    455.227731             0.818182   \n",
       "\n",
       "   oneoff_purchases_frequency  purchases_installments_frequency  \\\n",
       "0                    0.666667                          0.571429   \n",
       "1                    0.714286                          0.888889   \n",
       "\n",
       "   cash_advance_frequency  cash_advance_trx  purchases_trx  credit_limit  \\\n",
       "0                0.727273                46            104    513.640460   \n",
       "1                0.111111                22            117   1100.892272   \n",
       "\n",
       "     payments  minimum_payments  prc_full_payment  tenure  \n",
       "0  343.102984        886.050237             0.375      11  \n",
       "1  258.032630         56.720210             0.400      12  "
      ]
     },
     "metadata": {},
     "output_type": "display_data"
    }
   ],
   "source": [
    "# Assuming data_dummy is your dictionary\n",
    "data_dummy = {\n",
    "    'cust_id': [570, 1090 ],\n",
    "    'balance': [1.979916,154.641707],\n",
    "    'balance_frequency': [1.0, 0.125],\n",
    "    'purchases': [103.0, 297.4],\n",
    "    'oneoff_purchases': [226.9, 427.22],\n",
    "    'installments_purchases': [773.34, 805.14],\n",
    "    'cash_advance': [4359.32575, 455.227731 ],\n",
    "    'purchases_frequency': [0.714286, 0.818182],\n",
    "    'oneoff_purchases_frequency': [0.666667, 0.714286],\n",
    "    'purchases_installments_frequency': [0.571429, 0.888889],\n",
    "    'cash_advance_frequency': [0.727273, 0.111111],\n",
    "    'cash_advance_trx': [46, 22],\n",
    "    'purchases_trx': [104, 117],\n",
    "    'credit_limit': [513.64046, 1100.892272],\n",
    "    'payments': [343.102984, 258.032630],\n",
    "    'minimum_payments': [886.050237, 56.720210],\n",
    "    'prc_full_payment': [0.375, 0.4],\n",
    "    'tenure': [11, 12],\n",
    "}\n",
    "\n",
    "# Create DataFrame\n",
    "df_data_dummy = pd.DataFrame(data_dummy)\n",
    "\n",
    "# Display DataFrame\n",
    "display(df_data_dummy.head())"
   ]
  },
  {
   "cell_type": "code",
   "execution_count": 15,
   "metadata": {},
   "outputs": [
    {
     "data": {
      "text/plain": [
       "array([[-0.66914457,  5.598497  ,  3.06559911,  3.03655451,  3.0880008 ],\n",
       "       [ 1.8259748 , -1.7813388 ,  2.58153274,  6.04657357, -0.20759051]])"
      ]
     },
     "execution_count": 15,
     "metadata": {},
     "output_type": "execute_result"
    }
   ],
   "source": [
    "#Splitting the dataset into categorical and numerical columns\n",
    "data_inference_selected = df_data_dummy[list_cols]\n",
    "\n",
    "# Scaling the numerical features, encoding the categorical features, and concatenating them back again\n",
    "data_inference_scaled = scaler.transform(data_inference_selected)\n",
    "data_inference_scaled_reduced = pca.transform(data_inference_scaled)\n",
    "data_inference_final = data_inference_scaled_reduced\n",
    "data_inference_final"
   ]
  },
  {
   "cell_type": "code",
   "execution_count": 16,
   "metadata": {},
   "outputs": [
    {
     "name": "stdout",
     "output_type": "stream",
     "text": [
      "Predicted Overall: 3.00\n"
     ]
    }
   ],
   "source": [
    "# Predict the score\n",
    "predicted_score = model_kmeans.predict(data_inference_final)\n",
    "\n",
    "# Show result\n",
    "print(f\"Predicted Overall: {predicted_score[0]:.2f}\")"
   ]
  }
 ],
 "metadata": {
  "kernelspec": {
   "display_name": "base",
   "language": "python",
   "name": "python3"
  },
  "language_info": {
   "codemirror_mode": {
    "name": "ipython",
    "version": 3
   },
   "file_extension": ".py",
   "mimetype": "text/x-python",
   "name": "python",
   "nbconvert_exporter": "python",
   "pygments_lexer": "ipython3",
   "version": "3.9.13"
  }
 },
 "nbformat": 4,
 "nbformat_minor": 2
}
